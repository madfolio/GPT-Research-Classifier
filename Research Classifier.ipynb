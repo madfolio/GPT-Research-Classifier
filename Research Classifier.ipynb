{
 "cells": [
  {
   "cell_type": "markdown",
   "id": "bf13ff15",
   "metadata": {},
   "source": [
    "# Research Classifier\n",
    "\n",
    "This is a research classifier with themes set for educational research. The input document is a word doc. Bold text is stripped out and headings are not processed. \n",
    "\n",
    "Sentences in the document are split out and the classified by GPT3.5 turbo in to themes are are provided in the array below. "
   ]
  },
  {
   "cell_type": "code",
   "execution_count": null,
   "id": "89c992f1",
   "metadata": {
    "scrolled": true
   },
   "outputs": [],
   "source": [
    "import pandas as pd\n",
    "import matplotlib.pyplot as plt\n",
    "import docx\n",
    "import nltk\n",
    "import openai\n"
   ]
  },
  {
   "cell_type": "code",
   "execution_count": null,
   "id": "64778ee5",
   "metadata": {},
   "outputs": [],
   "source": [
    "\n",
    "#Inputs\n",
    "\n",
    "openai.api_key = \"YOUR_KEY\"\n",
    "\n",
    "doc = docx.Document('Sentences.docx')\n",
    "\n",
    "themes = ['Leadership', \n",
    "          'Assessment', \n",
    "          'Wellbeing', \n",
    "          'Self-belief', \n",
    "          'Challenge', \n",
    "          'Motivation', \n",
    "          'Learning styles', \n",
    "          'Teacher-student relationship', \n",
    "          'Parental involvement', \n",
    "          'Curriculum design', \n",
    "          'Critical thinking', \n",
    "          'Creativity', \n",
    "          'Peer collaboration', \n",
    "          'Multicultural education', \n",
    "          'STEM education', \n",
    "          'Inclusive education', \n",
    "          'Digital literacy', \n",
    "          'Emotional intelligence', \n",
    "          'Student engagement', \n",
    "          'Educational technology', \n",
    "          'Classroom management']\n",
    "\n"
   ]
  },
  {
   "cell_type": "code",
   "execution_count": null,
   "id": "9bc5f1d2",
   "metadata": {},
   "outputs": [],
   "source": [
    "\n",
    "# Process the text document\n",
    "doc_text = ''\n",
    "for paragraph in doc.paragraphs:\n",
    "    if paragraph.style.name.startswith('Heading'):\n",
    "        # skip headings\n",
    "        continue\n",
    "    for run in paragraph.runs:\n",
    "        if run.bold:\n",
    "            # skip bolded text\n",
    "            continue\n",
    "        doc_text += run.text\n",
    "\n",
    "    doc_text += '\\n'\n",
    "\n",
    "# split into sentences\n",
    "sentences = nltk.sent_tokenize(doc_text)"
   ]
  },
  {
   "cell_type": "code",
   "execution_count": null,
   "id": "4ff11782",
   "metadata": {},
   "outputs": [],
   "source": [
    "# Make the gpt prompt\n",
    "\n",
    "themes_str = ','.join(themes)\n",
    "\n",
    "command = \"You are strictly a classifier. You must return 2 of the words from the following list for each sentence based on what you think the sentence is related to. There is to be no padding or punctuation. Nothing else. If you are unable to understand the sentence output 'unclassified' only. This is the list:\"\n",
    "\n",
    "prompt = command+\"[\"+themes_str+\"]\""
   ]
  },
  {
   "cell_type": "code",
   "execution_count": null,
   "id": "13c379d6",
   "metadata": {},
   "outputs": [],
   "source": [
    "prompt"
   ]
  },
  {
   "cell_type": "code",
   "execution_count": null,
   "id": "4e6b6a81",
   "metadata": {},
   "outputs": [],
   "source": [
    "# Run GPT 3.5 on OpenAI\n",
    "\n",
    "output = []\n",
    "\n",
    "for sentence in sentences:\n",
    "    completion = openai.ChatCompletion.create(\n",
    "  model=\"gpt-3.5-turbo\", \n",
    "  messages = [{\"role\": \"system\", \"content\" : prompt},\n",
    "{\"role\": \"user\", \"content\" : \"How are you?\"},\n",
    "{\"role\": \"assistant\", \"content\" : \"I am doing well\"},\n",
    "{\"role\": \"user\", \"content\" : sentence}]\n",
    ")\n",
    "    classification = completion[\"choices\"][0][\"message\"][\"content\"]\n",
    "    \n",
    "    output.append((sentence, classification))"
   ]
  },
  {
   "cell_type": "code",
   "execution_count": null,
   "id": "7f37ffe3",
   "metadata": {},
   "outputs": [],
   "source": [
    "# Data output to pandas dataframe\n",
    "\n",
    "df = pd.DataFrame(output, columns=['Sentence', 'Classification'])\n",
    "\n",
    "df['Classification'] = df['Classification'].str.replace('.', '', regex=False)\n",
    "\n",
    "# Split Classification column into two columns based on comma\n",
    "df[['Class1', 'Class2']] = df['Classification'].str.split(',', expand=True)\n",
    "\n",
    "# Drop the original Classification column\n",
    "df.drop('Classification', axis=1, inplace=True)\n",
    "\n"
   ]
  },
  {
   "cell_type": "code",
   "execution_count": null,
   "id": "f359cca1",
   "metadata": {},
   "outputs": [],
   "source": [
    "df"
   ]
  },
  {
   "cell_type": "code",
   "execution_count": null,
   "id": "500a5b2a",
   "metadata": {},
   "outputs": [],
   "source": [
    "#Graph it\n",
    "\n",
    "fig, ax = plt.subplots(nrows=1, ncols=2, figsize=(12,6))\n",
    "df['Class1'].value_counts().plot(kind='bar', ax=ax[0], color='b')\n",
    "ax[0].set_title('Class1')\n",
    "df['Class2'].value_counts().plot(kind='bar', ax=ax[1], color='g')\n",
    "ax[1].set_title('Class2')\n",
    "plt.show()"
   ]
  }
 ],
 "metadata": {
  "kernelspec": {
   "display_name": "Python 3 (ipykernel)",
   "language": "python",
   "name": "python3"
  },
  "language_info": {
   "codemirror_mode": {
    "name": "ipython",
    "version": 3
   },
   "file_extension": ".py",
   "mimetype": "text/x-python",
   "name": "python",
   "nbconvert_exporter": "python",
   "pygments_lexer": "ipython3",
   "version": "3.9.15"
  }
 },
 "nbformat": 4,
 "nbformat_minor": 5
}
